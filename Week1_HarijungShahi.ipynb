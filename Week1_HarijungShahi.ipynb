{
  "nbformat": 4,
  "nbformat_minor": 0,
  "metadata": {
    "colab": {
      "provenance": []
    },
    "kernelspec": {
      "name": "python3",
      "display_name": "Python 3"
    },
    "language_info": {
      "name": "python"
    }
  },
  "cells": [
    {
      "cell_type": "markdown",
      "source": [
        "Harijung Shahi\n",
        "(L4CG24)"
      ],
      "metadata": {
        "id": "vDAAmAO0OHN8"
      }
    },
    {
      "cell_type": "markdown",
      "source": [
        "PROBLEM-1"
      ],
      "metadata": {
        "id": "xzmG2aTLB_tN"
      }
    },
    {
      "cell_type": "code",
      "source": [
        "import numpy as np\n",
        "empty_arr = np.zeros((2,2))\n",
        "print(empty_arr)"
      ],
      "metadata": {
        "colab": {
          "base_uri": "https://localhost:8080/"
        },
        "id": "GxqNpLcmCCyT",
        "outputId": "9fe07a4f-5d6c-4776-baab-74f7c7322e70"
      },
      "execution_count": null,
      "outputs": [
        {
          "output_type": "stream",
          "name": "stdout",
          "text": [
            "[[0. 0.]\n",
            " [0. 0.]]\n"
          ]
        }
      ]
    },
    {
      "cell_type": "code",
      "source": [
        "empty_Arr2=np.zeros((4,2))\n",
        "print(empty_Arr2)"
      ],
      "metadata": {
        "colab": {
          "base_uri": "https://localhost:8080/"
        },
        "id": "0WpqGwFFCPvj",
        "outputId": "5155e478-b645-4c27-fd57-adfb89b0d351"
      },
      "execution_count": null,
      "outputs": [
        {
          "output_type": "stream",
          "name": "stdout",
          "text": [
            "[[0. 0.]\n",
            " [0. 0.]\n",
            " [0. 0.]\n",
            " [0. 0.]]\n"
          ]
        }
      ]
    },
    {
      "cell_type": "code",
      "source": [
        "array_full=np.full(2,2)\n",
        "print(array_full)"
      ],
      "metadata": {
        "colab": {
          "base_uri": "https://localhost:8080/"
        },
        "id": "6lh1spunCUrp",
        "outputId": "dfdf4a62-c877-4976-80e7-5a4f2fbcc961"
      },
      "execution_count": null,
      "outputs": [
        {
          "output_type": "stream",
          "name": "stdout",
          "text": [
            "[2 2]\n"
          ]
        }
      ]
    },
    {
      "cell_type": "code",
      "source": [
        "zeros_arr= np.zeros([2,2])\n",
        "print(zeros_arr)"
      ],
      "metadata": {
        "colab": {
          "base_uri": "https://localhost:8080/"
        },
        "id": "54OLM7HUCYHO",
        "outputId": "88e729e3-08f5-4425-b96f-91c05f543dc6"
      },
      "execution_count": null,
      "outputs": [
        {
          "output_type": "stream",
          "name": "stdout",
          "text": [
            "[[0. 0.]\n",
            " [0. 0.]]\n"
          ]
        }
      ]
    },
    {
      "cell_type": "code",
      "source": [
        "ones_Arr=np.ones([2,2])\n",
        "print(ones_Arr)"
      ],
      "metadata": {
        "colab": {
          "base_uri": "https://localhost:8080/"
        },
        "id": "PAvF6u30Cdvs",
        "outputId": "5f79d8e3-c3e2-4be2-d442-18b49c3feab0"
      },
      "execution_count": null,
      "outputs": [
        {
          "output_type": "stream",
          "name": "stdout",
          "text": [
            "[[1. 1.]\n",
            " [1. 1.]]\n"
          ]
        }
      ]
    },
    {
      "cell_type": "code",
      "source": [
        "new_list=[1,2,3,4]\n",
        "array = np.array(new_list)\n",
        "print(array)"
      ],
      "metadata": {
        "colab": {
          "base_uri": "https://localhost:8080/"
        },
        "id": "jF1Ug8e4CiIe",
        "outputId": "a26f8b01-f8a7-47d6-fb62-33ec3d91080b"
      },
      "execution_count": null,
      "outputs": [
        {
          "output_type": "stream",
          "name": "stdout",
          "text": [
            "[1 2 3 4]\n"
          ]
        }
      ]
    },
    {
      "cell_type": "markdown",
      "source": [
        "PROBLEM-2"
      ],
      "metadata": {
        "id": "AXUkCo0VClC6"
      }
    },
    {
      "cell_type": "code",
      "source": [
        "array_2 = np.arange(10,50)\n",
        "print(array_2)"
      ],
      "metadata": {
        "colab": {
          "base_uri": "https://localhost:8080/"
        },
        "id": "VoHDSIMgCqNh",
        "outputId": "1d9d4714-89f1-4beb-e0c4-f96d0030604b"
      },
      "execution_count": null,
      "outputs": [
        {
          "output_type": "stream",
          "name": "stdout",
          "text": [
            "[10 11 12 13 14 15 16 17 18 19 20 21 22 23 24 25 26 27 28 29 30 31 32 33\n",
            " 34 35 36 37 38 39 40 41 42 43 44 45 46 47 48 49]\n"
          ]
        }
      ]
    },
    {
      "cell_type": "code",
      "source": [
        "array_3 = np.array([0,1,2,3,4,5,6,7,8])\n",
        "new = array_3.reshape(3,3)\n",
        "print(new)"
      ],
      "metadata": {
        "colab": {
          "base_uri": "https://localhost:8080/"
        },
        "id": "4Psbyib_Cse_",
        "outputId": "842f3fdc-238c-464a-a2ac-7fb7e81a79e8"
      },
      "execution_count": null,
      "outputs": [
        {
          "output_type": "stream",
          "name": "stdout",
          "text": [
            "[[0 1 2]\n",
            " [3 4 5]\n",
            " [6 7 8]]\n"
          ]
        }
      ]
    },
    {
      "cell_type": "code",
      "source": [
        "identity = np.eye(3,3)\n",
        "print(identity)"
      ],
      "metadata": {
        "colab": {
          "base_uri": "https://localhost:8080/"
        },
        "id": "Uo3lmMEnCusL",
        "outputId": "3bcca645-f7a0-452c-cf2f-fc37ee7bf1cd"
      },
      "execution_count": null,
      "outputs": [
        {
          "output_type": "stream",
          "name": "stdout",
          "text": [
            "[[1. 0. 0.]\n",
            " [0. 1. 0.]\n",
            " [0. 0. 1.]]\n"
          ]
        }
      ]
    },
    {
      "cell_type": "code",
      "source": [
        "random_array = np.random.random(30)\n",
        "mean_value = random_array.mean()\n",
        "print(\"Random array:\", random_array)\n",
        "print(\"Mean of the array:\", mean_value)"
      ],
      "metadata": {
        "colab": {
          "base_uri": "https://localhost:8080/"
        },
        "id": "xqXrV00VCxo4",
        "outputId": "0ac7d128-02dc-4f63-abb0-3a332af4f56f"
      },
      "execution_count": null,
      "outputs": [
        {
          "output_type": "stream",
          "name": "stdout",
          "text": [
            "Random array: [0.52632095 0.3579112  0.15511046 0.3229689  0.63271665 0.61458133\n",
            " 0.1313246  0.45320204 0.90389533 0.15537747 0.76409816 0.45896957\n",
            " 0.90640629 0.29917061 0.2629141  0.65851073 0.6001824  0.85613915\n",
            " 0.05390938 0.30847935 0.63024667 0.69692321 0.91780825 0.86649497\n",
            " 0.39853076 0.60263721 0.4832568  0.83471543 0.26062271 0.78661171]\n",
            "Mean of the array: 0.5300012127941802\n"
          ]
        }
      ]
    },
    {
      "cell_type": "code",
      "source": [
        "import numpy as np\n",
        "random_array = np.random.random((10, 10))\n",
        "min_value = np.min(random_array)\n",
        "max_value = np.max(random_array)\n",
        "print(\"Random Array:\")\n",
        "print(random_array)\n",
        "print(\"\\nMinimum Value:\", min_value)\n",
        "print(\"Maximum Value:\", max_value)\n"
      ],
      "metadata": {
        "colab": {
          "base_uri": "https://localhost:8080/"
        },
        "id": "tSXuFXJxLn10",
        "outputId": "db2e585d-243f-44c0-bed7-9ef68f44dfb0"
      },
      "execution_count": null,
      "outputs": [
        {
          "output_type": "stream",
          "name": "stdout",
          "text": [
            "Random Array:\n",
            "[[0.46417699 0.12628881 0.40496626 0.04601525 0.9117148  0.51123413\n",
            "  0.33966658 0.71077803 0.84495727 0.69854344]\n",
            " [0.18391062 0.95264365 0.24974514 0.54054405 0.20299582 0.68522134\n",
            "  0.56892155 0.04319465 0.25646833 0.09982698]\n",
            " [0.88990342 0.51912734 0.1132613  0.70224169 0.06371461 0.82371738\n",
            "  0.88282646 0.31751539 0.95315873 0.85466142]\n",
            " [0.8748259  0.81998499 0.30191746 0.6306193  0.30901968 0.68352816\n",
            "  0.02646675 0.21596674 0.11752895 0.39726146]\n",
            " [0.34206788 0.35329055 0.61185691 0.2083732  0.29132899 0.18835648\n",
            "  0.87291423 0.23319275 0.27295923 0.67845667]\n",
            " [0.34350572 0.46333902 0.24216449 0.75360737 0.11386009 0.11914768\n",
            "  0.26868849 0.11454916 0.97341516 0.97056868]\n",
            " [0.95088452 0.28392503 0.71720533 0.21715362 0.37327041 0.68060381\n",
            "  0.26559513 0.54384251 0.61285631 0.12686433]\n",
            " [0.38632925 0.07506711 0.52399945 0.20514623 0.03360605 0.6038719\n",
            "  0.76977294 0.39015154 0.11516144 0.07709992]\n",
            " [0.37292229 0.37448606 0.86689456 0.58915378 0.02315237 0.64331114\n",
            "  0.86945522 0.83265993 0.77611288 0.1269695 ]\n",
            " [0.09152597 0.41962633 0.78388368 0.69448309 0.70668013 0.63695506\n",
            "  0.32099676 0.25650209 0.84733988 0.75695273]]\n",
            "\n",
            "Minimum Value: 0.023152372295828783\n",
            "Maximum Value: 0.9734151580816977\n"
          ]
        }
      ]
    },
    {
      "cell_type": "code",
      "source": [
        "zero_array = np.zeros(10)\n",
        "zero_array[4] = 1\n",
        "print(zero_array)"
      ],
      "metadata": {
        "colab": {
          "base_uri": "https://localhost:8080/"
        },
        "id": "ljpfmsHVLrzh",
        "outputId": "363dc4bc-9675-4e57-b105-ba291c774cf9"
      },
      "execution_count": null,
      "outputs": [
        {
          "output_type": "stream",
          "name": "stdout",
          "text": [
            "[0. 0. 0. 0. 1. 0. 0. 0. 0. 0.]\n"
          ]
        }
      ]
    },
    {
      "cell_type": "code",
      "source": [
        "arr = np.array([1, 2, 0, 0, 4, 0])\n",
        "reversed_arr = arr[::-1]\n",
        "print(reversed_arr)"
      ],
      "metadata": {
        "colab": {
          "base_uri": "https://localhost:8080/"
        },
        "id": "DtK1WPbTLura",
        "outputId": "98c6dec5-c28e-48e9-fb56-9da99efb1610"
      },
      "execution_count": null,
      "outputs": [
        {
          "output_type": "stream",
          "name": "stdout",
          "text": [
            "[0 4 0 0 2 1]\n"
          ]
        }
      ]
    },
    {
      "cell_type": "code",
      "source": [
        "array_6 = np.array([[1,0,0,0]])\n",
        "print(array_6)"
      ],
      "metadata": {
        "colab": {
          "base_uri": "https://localhost:8080/"
        },
        "id": "zEarozvILyaU",
        "outputId": "9a4c72f1-df8b-46ca-efb5-7106b2ed7637"
      },
      "execution_count": null,
      "outputs": [
        {
          "output_type": "stream",
          "name": "stdout",
          "text": [
            "[[1 0 0 0]]\n"
          ]
        }
      ]
    },
    {
      "cell_type": "markdown",
      "source": [
        "PROBLEM-3"
      ],
      "metadata": {
        "id": "D-JLJBTRL54u"
      }
    },
    {
      "cell_type": "code",
      "source": [
        "x = np.array([[1, 2], [3, 5]])\n",
        "y = np.array([[5, 6], [7, 8]])\n",
        "v = np.array([9, 10])\n",
        "w = np.array([11, 12])\n",
        "\n",
        "# Task-1\n",
        "add = x + y\n",
        "add2 = w + v\n",
        "print(\"Addition1:\\n\", add)\n",
        "print(\"Addition2:\\n\", add2)\n",
        "\n",
        "#Task-2\n",
        "\n",
        "sub = x-y\n",
        "sub2= w-v\n",
        "print(\"Subtraction1:\\n\", sub)\n",
        "print(\"Subtraction2:\\n\", sub2)\n",
        "\n",
        "\n",
        "#Task-3\n",
        "new_x = x*2\n",
        "new_y = y*3\n",
        "new_v = v*4\n",
        "new_w = w*5\n",
        "print(\"X:\\n\", new_x)\n",
        "print(\"Y:\\n\", new_y)\n",
        "print(\"V:\\n\", new_v)\n",
        "print(\"Z:\\n\", new_w)\n",
        "\n",
        "#Task-4\n",
        "x = np.array([[1, 2], [3, 5]])\n",
        "y = np.array([[5, 6], [7, 8]])\n",
        "v = np.array([9, 10])\n",
        "w = np.array([11, 12])\n",
        "sqrt_x = np.sqrt(x)\n",
        "sqrt_y = np.sqrt(y)\n",
        "sqrt_v = np.sqrt(v)\n",
        "sqrt_w = np.sqrt(w)\n",
        "\n",
        "print(\"Square root of x:\\n\", sqrt_x)\n",
        "print(\"Square root of y:\\n\", sqrt_y)\n",
        "print(\"Square root of v:\\n\", sqrt_v)\n",
        "print(\"Square root of w:\\n\", sqrt_w)\n",
        "\n",
        "#Task-5\n",
        "dot_v_w=np.dot(v,w)\n",
        "dot_x_v=np.dot(x,v)\n",
        "dot_x_y=np.dot(x,y)\n",
        "print(\"Dot product of v and w arrays:\\n\", dot_v_w)\n",
        "print(\"Dot product of x and v arrays:\\n\", dot_x_v)\n",
        "print(\"Dot product of x and y arrays:\\n\", dot_x_y)\n",
        "\n",
        "#Task-6\n",
        "\n",
        "array_v_w = np.stack((v, w), axis=0)\n",
        "print(\"Stacked v and w arrays:\\n\", array_v_w)\n",
        "\n",
        "\n",
        "array_x_y = np.vstack((x, y))\n",
        "print(\"Stacked x and y arrays (vertically):\\n\", array_x_y)"
      ],
      "metadata": {
        "colab": {
          "base_uri": "https://localhost:8080/"
        },
        "id": "myu_dmCaL7GD",
        "outputId": "68c808ed-4bfe-4e1d-c7f7-f2770c3cad6b"
      },
      "execution_count": null,
      "outputs": [
        {
          "output_type": "stream",
          "name": "stdout",
          "text": [
            "Addition1:\n",
            " [[ 6  8]\n",
            " [10 13]]\n",
            "Addition2:\n",
            " [20 22]\n",
            "Subtraction1:\n",
            " [[-4 -4]\n",
            " [-4 -3]]\n",
            "Subtraction2:\n",
            " [2 2]\n",
            "X:\n",
            " [[ 2  4]\n",
            " [ 6 10]]\n",
            "Y:\n",
            " [[15 18]\n",
            " [21 24]]\n",
            "V:\n",
            " [36 40]\n",
            "Z:\n",
            " [55 60]\n",
            "Square root of x:\n",
            " [[1.         1.41421356]\n",
            " [1.73205081 2.23606798]]\n",
            "Square root of y:\n",
            " [[2.23606798 2.44948974]\n",
            " [2.64575131 2.82842712]]\n",
            "Square root of v:\n",
            " [3.         3.16227766]\n",
            "Square root of w:\n",
            " [3.31662479 3.46410162]\n",
            "Dot product of v and w arrays:\n",
            " 219\n",
            "Dot product of x and v arrays:\n",
            " [29 77]\n",
            "Dot product of x and y arrays:\n",
            " [[19 22]\n",
            " [50 58]]\n",
            "Stacked v and w arrays:\n",
            " [[ 9 10]\n",
            " [11 12]]\n",
            "Stacked x and y arrays (vertically):\n",
            " [[1 2]\n",
            " [3 5]\n",
            " [5 6]\n",
            " [7 8]]\n"
          ]
        }
      ]
    },
    {
      "cell_type": "markdown",
      "source": [
        "PROBLEM-4"
      ],
      "metadata": {
        "id": "PpKopcEBMPST"
      }
    },
    {
      "cell_type": "code",
      "source": [
        "A = np.array([[3, 4], [7, 8]])\n",
        "\n",
        "\n",
        "A_inv = np.linalg.inv(A)\n",
        "\n",
        "\n",
        "result = np.dot(A, A_inv)\n",
        "\n",
        "print(\"A * A_inv = \\n\", result)\n",
        "\n",
        "\n",
        "I = np.eye(2)\n",
        "\n",
        "print(\"\\nIdentity matrix I:\\n\", I)\n",
        "print(\"\\nIs A * A_inv approximately equal to I? \", np.allclose(result, I))\n",
        "\n",
        "\n",
        "#task-2\n",
        "A = np.array([[3, 4], [7, 8]])\n",
        "B = np.array([[5, 3], [2, 1]])\n",
        "\n",
        "# Compute the product AB\n",
        "AB = np.dot(A, B)\n",
        "\n",
        "# Compute the product BA\n",
        "BA = np.dot(B, A)\n",
        "\n",
        "# Print the results\n",
        "print(\"AB = \\n\", AB)\n",
        "print(\"\\nBA = \\n\", BA)\n",
        "\n",
        "# Verify if AB is equal to BA\n",
        "print(\"\\nIs AB equal to BA? \", np.array_equal(AB, BA))"
      ],
      "metadata": {
        "id": "9CXlCcD0MRJc",
        "outputId": "b35d0856-d87a-4852-ad6e-c00632ac5ede",
        "colab": {
          "base_uri": "https://localhost:8080/"
        }
      },
      "execution_count": null,
      "outputs": [
        {
          "output_type": "stream",
          "name": "stdout",
          "text": [
            "A * A_inv = \n",
            " [[1.00000000e+00 0.00000000e+00]\n",
            " [1.77635684e-15 1.00000000e+00]]\n",
            "\n",
            "Identity matrix I:\n",
            " [[1. 0.]\n",
            " [0. 1.]]\n",
            "\n",
            "Is A * A_inv approximately equal to I?  True\n",
            "AB = \n",
            " [[23 13]\n",
            " [51 29]]\n",
            "\n",
            "BA = \n",
            " [[36 44]\n",
            " [13 16]]\n",
            "\n",
            "Is AB equal to BA?  False\n"
          ]
        }
      ]
    }
  ]
}